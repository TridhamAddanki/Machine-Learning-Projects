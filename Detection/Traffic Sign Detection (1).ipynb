{
 "cells": [
  {
   "cell_type": "code",
   "execution_count": 2,
   "metadata": {},
   "outputs": [
    {
     "name": "stderr",
     "output_type": "stream",
     "text": [
      "Using TensorFlow backend.\n"
     ]
    }
   ],
   "source": [
    "import numpy as np\n",
    "import matplotlib.pyplot as plt\n",
    "import keras\n",
    "from keras.models import Sequential\n",
    "from keras.layers import Dense, Dropout, Flatten\n",
    "from keras.layers.convolutional import Conv2D, MaxPooling2D\n",
    "from keras.optimizers import Adam\n",
    "from keras.utils.np_utils import to_categorical\n",
    "from keras.preprocessing.image import ImageDataGenerator\n",
    "import pickle\n",
    "import pandas as pd\n",
    "import random\n",
    "import cv2\n",
    "np.random.seed(0)\n"
   ]
  },
  {
   "cell_type": "code",
   "execution_count": 3,
   "metadata": {},
   "outputs": [
    {
     "name": "stdout",
     "output_type": "stream",
     "text": [
      "(34799, 32, 32, 3)\n",
      "(4410, 32, 32, 3)\n",
      "(12630, 32, 32, 3)\n"
     ]
    }
   ],
   "source": [
    "data = pd.read_csv(\"D:/DC LAB/jadslim-german-traffic-signs-a11dc223e390/signnames.csv\")\n",
    "with open('D:/DC LAB/jadslim-german-traffic-signs-a11dc223e390/train.p', 'rb') as f:\n",
    "    train_data = pickle.load(f)\n",
    "with open('D:/DC LAB/jadslim-german-traffic-signs-a11dc223e390/valid.p', 'rb') as f:\n",
    "    val_data = pickle.load(f)\n",
    "with open('D:/DC LAB/jadslim-german-traffic-signs-a11dc223e390/test.p', 'rb') as f:\n",
    "    test_data = pickle.load(f)\n",
    "X_train, y_train = train_data['features'], train_data['labels']\n",
    "X_val, y_val = val_data['features'], val_data['labels']\n",
    "X_test, y_test = test_data['features'], test_data['labels']\n",
    "  \n",
    "# Printing the shapes\n",
    "print(X_train.shape)\n",
    "print(X_val.shape)\n",
    "print(X_test.shape)"
   ]
  },
  {
   "cell_type": "code",
   "execution_count": 4,
   "metadata": {},
   "outputs": [],
   "source": [
    "def preprocessing(img):\n",
    "    img = cv2.cvtColor(img, cv2.COLOR_BGR2GRAY)\n",
    "    img = cv2.equalizeHist(img)\n",
    "    img = img / 255\n",
    "    return img\n",
    "  \n",
    "X_train = np.array(list(map(preprocessing, X_train)))\n",
    "X_val = np.array(list(map(preprocessing, X_val)))\n",
    "X_test = np.array(list(map(preprocessing, X_test)))\n",
    "  \n",
    "X_train = X_train.reshape(34799, 32, 32, 1)\n",
    "X_val = X_val.reshape(4410, 32, 32, 1)\n",
    "X_test = X_test.reshape(12630, 32, 32, 1)"
   ]
  },
  {
   "cell_type": "code",
   "execution_count": 5,
   "metadata": {},
   "outputs": [],
   "source": [
    "datagen = ImageDataGenerator(width_shift_range = 0.1, \n",
    "                  height_shift_range = 0.1, \n",
    "                  zoom_range = 0.2, \n",
    "                  shear_range = 0.1, \n",
    "                  rotation_range = 10)\n",
    "datagen.fit(X_train)\n",
    "  \n",
    "y_train = to_categorical(y_train, 43)\n",
    "y_val = to_categorical(y_val, 43)\n",
    "y_test = to_categorical(y_test, 43)"
   ]
  },
  {
   "cell_type": "code",
   "execution_count": 6,
   "metadata": {},
   "outputs": [
    {
     "name": "stdout",
     "output_type": "stream",
     "text": [
      "Epoch 1/10\n",
      "2000/2000 [==============================] - 1289s 645ms/step - loss: 0.9055 - accuracy: 0.7346 - val_loss: 0.1029 - val_accuracy: 0.9696\n",
      "Epoch 2/10\n",
      "2000/2000 [==============================] - 1318s 659ms/step - loss: 0.2321 - accuracy: 0.9275 - val_loss: 0.0751 - val_accuracy: 0.9769\n",
      "Epoch 3/10\n",
      "2000/2000 [==============================] - 999s 499ms/step - loss: 0.1496 - accuracy: 0.9526 - val_loss: 0.0374 - val_accuracy: 0.9880\n",
      "Epoch 4/10\n",
      "2000/2000 [==============================] - 816s 408ms/step - loss: 0.1172 - accuracy: 0.9642 - val_loss: 0.0374 - val_accuracy: 0.9896\n",
      "Epoch 5/10\n",
      "2000/2000 [==============================] - 952s 476ms/step - loss: 0.0976 - accuracy: 0.9698 - val_loss: 0.0367 - val_accuracy: 0.9896\n",
      "Epoch 6/10\n",
      "2000/2000 [==============================] - 846s 423ms/step - loss: 0.0851 - accuracy: 0.9739 - val_loss: 0.0236 - val_accuracy: 0.9939\n",
      "Epoch 7/10\n",
      "2000/2000 [==============================] - 937s 468ms/step - loss: 0.0758 - accuracy: 0.9770 - val_loss: 0.0480 - val_accuracy: 0.9882\n",
      "Epoch 8/10\n",
      "2000/2000 [==============================] - 1070s 535ms/step - loss: 0.0691 - accuracy: 0.9788 - val_loss: 0.0454 - val_accuracy: 0.9887\n",
      "Epoch 9/10\n",
      "2000/2000 [==============================] - 905s 452ms/step - loss: 0.0589 - accuracy: 0.9815 - val_loss: 0.0228 - val_accuracy: 0.9941\n",
      "Epoch 10/10\n",
      "2000/2000 [==============================] - 902s 451ms/step - loss: 0.0653 - accuracy: 0.9809 - val_loss: 0.0159 - val_accuracy: 0.9946\n"
     ]
    }
   ],
   "source": [
    "num_classes = 43\n",
    "  \n",
    "def cnn_model():\n",
    "    model = Sequential()\n",
    "    model.add(Conv2D(60, (5, 5), \n",
    "                     input_shape =(32, 32, 1), \n",
    "                     activation ='relu'))\n",
    "      \n",
    "    model.add(Conv2D(60, (5, 5), activation ='relu'))\n",
    "    model.add(MaxPooling2D(pool_size =(2, 2)))\n",
    "      \n",
    "    model.add(Conv2D(30, (3, 3), activation ='relu'))\n",
    "    model.add(Conv2D(30, (3, 3), activation ='relu'))\n",
    "    model.add(MaxPooling2D(pool_size =(2, 2)))\n",
    "      \n",
    "    model.add(Flatten())\n",
    "    model.add(Dense(500, activation ='relu'))\n",
    "    model.add(Dropout(0.5))\n",
    "    model.add(Dense(num_classes, activation ='softmax'))\n",
    "      \n",
    "    # Compile model\n",
    "    model.compile(Adam(lr = 0.001), \n",
    "                  loss ='categorical_crossentropy', \n",
    "                  metrics =['accuracy'])\n",
    "    return model\n",
    "  \n",
    "model = cnn_model()\n",
    "history = model.fit_generator(datagen.flow(X_train, y_train, \n",
    "                            batch_size = 50), steps_per_epoch = 2000, \n",
    "                            epochs = 10, validation_data =(X_val, y_val), \n",
    "                            shuffle = 1)"
   ]
  },
  {
   "cell_type": "code",
   "execution_count": 7,
   "metadata": {},
   "outputs": [
    {
     "data": {
      "text/plain": [
       "Text(0.5, 0, 'epoch')"
      ]
     },
     "execution_count": 7,
     "metadata": {},
     "output_type": "execute_result"
    },
    {
     "data": {
      "image/png": "[encoded data removed]",
      "text/plain": [
       "<Figure size 432x288 with 1 Axes>"
      ]
     },
     "metadata": {
      "needs_background": "light"
     },
     "output_type": "display_data"
    }
   ],
   "source": [
    "plt.plot(history.history['loss'])\n",
    "plt.plot(history.history['val_loss'])\n",
    "plt.legend(['training', 'validation'])\n",
    "plt.title('Loss')\n",
    "plt.xlabel('epoch')"
   ]
  },
  {
   "cell_type": "code",
   "execution_count": 8,
   "metadata": {},
   "outputs": [
    {
     "ename": "KeyError",
     "evalue": "'acc'",
     "output_type": "error",
     "traceback": [
      "\u001b[1;31m---------------------------------------------------------------------------\u001b[0m",
      "\u001b[1;31mKeyError\u001b[0m                                  Traceback (most recent call last)",
      "\u001b[1;32m<ipython-input-8-71dda20b9cba>\u001b[0m in \u001b[0;36m<module>\u001b[1;34m\u001b[0m\n\u001b[1;32m----> 1\u001b[1;33m \u001b[0mplt\u001b[0m\u001b[1;33m.\u001b[0m\u001b[0mplot\u001b[0m\u001b[1;33m(\u001b[0m\u001b[0mhistory\u001b[0m\u001b[1;33m.\u001b[0m\u001b[0mhistory\u001b[0m\u001b[1;33m[\u001b[0m\u001b[1;34m'acc'\u001b[0m\u001b[1;33m]\u001b[0m\u001b[1;33m)\u001b[0m\u001b[1;33m\u001b[0m\u001b[1;33m\u001b[0m\u001b[0m\n\u001b[0m\u001b[0;32m      2\u001b[0m \u001b[0mplt\u001b[0m\u001b[1;33m.\u001b[0m\u001b[0mplot\u001b[0m\u001b[1;33m(\u001b[0m\u001b[0mhistory\u001b[0m\u001b[1;33m.\u001b[0m\u001b[0mhistory\u001b[0m\u001b[1;33m[\u001b[0m\u001b[1;34m'val_acc'\u001b[0m\u001b[1;33m]\u001b[0m\u001b[1;33m)\u001b[0m\u001b[1;33m\u001b[0m\u001b[1;33m\u001b[0m\u001b[0m\n\u001b[0;32m      3\u001b[0m \u001b[0mplt\u001b[0m\u001b[1;33m.\u001b[0m\u001b[0mlegend\u001b[0m\u001b[1;33m(\u001b[0m\u001b[1;33m[\u001b[0m\u001b[1;34m'training'\u001b[0m\u001b[1;33m,\u001b[0m \u001b[1;34m'validation'\u001b[0m\u001b[1;33m]\u001b[0m\u001b[1;33m)\u001b[0m\u001b[1;33m\u001b[0m\u001b[1;33m\u001b[0m\u001b[0m\n\u001b[0;32m      4\u001b[0m \u001b[0mplt\u001b[0m\u001b[1;33m.\u001b[0m\u001b[0mtitle\u001b[0m\u001b[1;33m(\u001b[0m\u001b[1;34m'Accuracy'\u001b[0m\u001b[1;33m)\u001b[0m\u001b[1;33m\u001b[0m\u001b[1;33m\u001b[0m\u001b[0m\n\u001b[0;32m      5\u001b[0m \u001b[0mplt\u001b[0m\u001b[1;33m.\u001b[0m\u001b[0mxlabel\u001b[0m\u001b[1;33m(\u001b[0m\u001b[1;34m'epoch'\u001b[0m\u001b[1;33m)\u001b[0m\u001b[1;33m\u001b[0m\u001b[1;33m\u001b[0m\u001b[0m\n",
      "\u001b[1;31mKeyError\u001b[0m: 'acc'"
     ]
    }
   ],
   "source": [
    "plt.plot(history.history['acc'])\n",
    "plt.plot(history.history['val_acc'])\n",
    "plt.legend(['training', 'validation'])\n",
    "plt.title('Accuracy')\n",
    "plt.xlabel('epoch')"
   ]
  },
  {
   "cell_type": "code",
   "execution_count": 9,
   "metadata": {},
   "outputs": [
    {
     "name": "stdout",
     "output_type": "stream",
     "text": [
      "Test Loss:  0.11359905943172635\n",
      "Test Accuracy:  0.9726840853691101\n"
     ]
    }
   ],
   "source": [
    "score = model.evaluate(X_test, y_test, verbose = 0)\n",
    "print('Test Loss: ', score[0])\n",
    "print('Test Accuracy: ', score[1])"
   ]
  },
  {
   "cell_type": "code",
   "execution_count": 11,
   "metadata": {},
   "outputs": [
    {
     "name": "stdout",
     "output_type": "stream",
     "text": [
      "Predicted sign: [1]\n"
     ]
    },
    {
     "data": {
      "image/png": "[encoded data removed]",
      "text/plain": [
       "<Figure size 432x288 with 1 Axes>"
      ]
     },
     "metadata": {
      "needs_background": "light"
     },
     "output_type": "display_data"
    }
   ],
   "source": [
    "plt.imshow(X_test[990].reshape(32, 32))\n",
    "print(\"Predicted sign: \"+ str(\n",
    "        model.predict_classes(X_test[910].reshape(1, 32, 32, 1))))"
   ]
  },
  {
   "cell_type": "code",
   "execution_count": null,
   "metadata": {},
   "outputs": [],
   "source": []
  }
 ],
 "metadata": {
  "kernelspec": {
   "display_name": "Python 3",
   "language": "python",
   "name": "python3"
  },
  "language_info": {
   "codemirror_mode": {
    "name": "ipython",
    "version": 3
   },
   "file_extension": ".py",
   "mimetype": "text/x-python",
   "name": "python",
   "nbconvert_exporter": "python",
   "pygments_lexer": "ipython3",
   "version": "3.7.7"
  }
 },
 "nbformat": 4,
 "nbformat_minor": 4
}
